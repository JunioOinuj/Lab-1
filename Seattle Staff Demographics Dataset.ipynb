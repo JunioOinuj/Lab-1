{
 "cells": [
  {
   "cell_type": "markdown",
   "metadata": {},
   "source": [
    "# Seattle Staff Demographics Dataset\n",
    "June \n",
    "\n",
    "9/23/19"
   ]
  },
  {
   "cell_type": "markdown",
   "metadata": {},
   "source": [
    "## Abstract"
   ]
  },
  {
   "cell_type": "markdown",
   "metadata": {},
   "source": [
    "In this lab we want to be able to tell a story with the dataset we downloaded. More specifically, the story between the Age and Hourly Rate data with the City of Seattle Staff Demographics Dataset (from https://data.seattle.gov/City-Business/City-of-Seattle-Staff-Demographics/5avq-r9hj). This dataset is important to analyze because it shows the people who work for the City of Seattle and their ages and how much they are paid. From this information, we will be able to draw engaging questions about this particular dataset.   "
   ]
  },
  {
   "cell_type": "markdown",
   "metadata": {},
   "source": [
    "## Dataset Preparation"
   ]
  },
  {
   "cell_type": "code",
   "execution_count": 4,
   "metadata": {},
   "outputs": [
    {
     "name": "stdout",
     "output_type": "stream",
     "text": [
      "['Race/Ethnicity,Sex,Department,Age,Hourly Rate,Regular/Temporary,Employee Status\\n', 'Hispanic or Latino,M,Municipal Court,57,29.75,R,A\\n', 'Hispanic or Latino,F,Municipal Court,39,27.18,R,A\\n', 'Hispanic or Latino,M,Police Department,52,59.75,R,A\\n', 'Hispanic or Latino,M,Fire Department,30,38.28,R,A\\n']\n"
     ]
    }
   ],
   "source": [
    "#open the csv file\n",
    "seattle_file = open(\"City_of_Seattle_Staff_Demographics.csv\", \"r\");\n",
    "\n",
    "#make a empty list to store the data from Dataset\n",
    "seattle_data = [];\n",
    "\n",
    "#put all lines from the seattle_file into a list\n",
    "for row in seattle_file:\n",
    "    seattle_data.append(row);\n",
    "    \n",
    "#close seattle_file\n",
    "seattle_file.close();\n",
    "\n",
    "print(seattle_data[:5]);\n"
   ]
  },
  {
   "cell_type": "code",
   "execution_count": 8,
   "metadata": {},
   "outputs": [
    {
     "name": "stdout",
     "output_type": "stream",
     "text": [
      "age minimum:\n",
      "14\n",
      "age maximum:\n",
      "92\n",
      "wage maximum:\n",
      "162.8353\n",
      "wage mimimum:\n",
      "5.53\n"
     ]
    }
   ],
   "source": [
    "#remove header\n",
    "#import data from seattle_file\n",
    "import statistics\n",
    "\n",
    "del seattle_data[0];\n",
    "\n",
    "# make two empty lists - one for age and one for wage seattle data\n",
    "# make a list of just the age and just the wage data\n",
    "age = [];\n",
    "wage = [];  \n",
    "\n",
    "# loop (go through every row one by one) through the seattle_data\n",
    "for item in range(len(seattle_data)):\n",
    "\n",
    "    \n",
    "    # what this line is doing is splitting out each comma separated item from a row and turning it into a list \n",
    "    # After being split, the three separate strings are then stored in another list called seattle_row\n",
    "    seattle_row = seattle_data[item].split(\",\")\n",
    "    \n",
    "    #now that the row is split into three parts, we can pick and choose \n",
    "    # add the second and the third to specific lists for age and wage\n",
    "    age.append(int(seattle_row[3]))\n",
    "    wage.append(float(seattle_row[4]))\n",
    "    \n",
    "agemin = min(age)\n",
    "\n",
    "agemax = max(age)\n",
    "\n",
    "wagemax = max(wage)\n",
    "\n",
    "wagemin = min(wage)\n",
    "\n",
    "print(\"age minimum:\")\n",
    "print(agemin)\n",
    "print(\"age maximum:\")\n",
    "print(agemax)\n",
    "print(\"wage maximum:\")\n",
    "print(wagemax)\n",
    "print(\"wage mimimum:\")\n",
    "print(wagemin)\n"
   ]
  },
  {
   "cell_type": "code",
   "execution_count": null,
   "metadata": {},
   "outputs": [],
   "source": []
  },
  {
   "cell_type": "markdown",
   "metadata": {},
   "source": [
    "## Data Modeling"
   ]
  },
  {
   "cell_type": "code",
   "execution_count": 11,
   "metadata": {
    "scrolled": true
   },
   "outputs": [
    {
     "name": "stdout",
     "output_type": "stream",
     "text": [
      "Nbr of values is  14194\n",
      "Total sum of values is  632115\n",
      "Average of values is  44.53395801042694\n",
      "Mean (average) of values is 44.53395801042694\n"
     ]
    }
   ],
   "source": [
    "# to count how many items are in the list, use the function len\n",
    "someNbrs = age\n",
    "count = len(someNbrs)\n",
    "print(\"Nbr of values is \", count)\n",
    "\n",
    "# to add up all the items in the list, use the function sum\n",
    "total = sum(someNbrs)\n",
    "print(\"Total sum of values is \", total)\n",
    "\n",
    "# you can then use these two values to calculate the average (also called the mean)\n",
    "avg=total/count\n",
    "print(\"Average of values is \", avg)\n",
    "\n",
    "# or, use the function statistics.mean to do the calculations\n",
    "# you must include the import statistics line first\n",
    "import statistics\n",
    "another_mean = statistics.mean(someNbrs)\n",
    "print(\"Mean (average) of values is\", another_mean)"
   ]
  },
  {
   "cell_type": "code",
   "execution_count": 12,
   "metadata": {},
   "outputs": [
    {
     "name": "stdout",
     "output_type": "stream",
     "text": [
      "Nbr of values is  14194\n",
      "Total sum of values is  568240.0329000067\n",
      "Average of values is  40.03381942370063\n",
      "Mean (average) of values is 40.03381942370015\n"
     ]
    }
   ],
   "source": [
    "# to count how many items are in the list, use the function len\n",
    "someNbrs = wage\n",
    "count = len(someNbrs)\n",
    "print(\"Nbr of values is \", count)\n",
    "\n",
    "# to add up all the items in the list, use the function sum\n",
    "total = sum(someNbrs)\n",
    "print(\"Total sum of values is \", total)\n",
    "\n",
    "# you can then use these two values to calculate the average (also called the mean)\n",
    "avg=total/count\n",
    "print(\"Average of values is \", avg)\n",
    "\n",
    "# or, use the function statistics.mean to do the calculations\n",
    "# you must include the import statistics line first\n",
    "import statistics\n",
    "another_mean = statistics.mean(someNbrs)\n",
    "print(\"Mean (average) of values is\", another_mean)"
   ]
  },
  {
   "cell_type": "markdown",
   "metadata": {},
   "source": [
    "## Data Analysis and Conclusion"
   ]
  },
  {
   "cell_type": "markdown",
   "metadata": {},
   "source": [
    "In conclusion, the oldest person working is 92 years old and the youngest is 14 years old. The highest paid person is paid $162.84 while the least paid person was paid $5.53 per an hour. "
   ]
  },
  {
   "cell_type": "markdown",
   "metadata": {},
   "source": []
  },
  {
   "cell_type": "markdown",
   "metadata": {},
   "source": [
    "## Acknowledgements"
   ]
  },
  {
   "cell_type": "markdown",
   "metadata": {},
   "source": [
    "Ms. Sconyers: \n",
    "Thank you for letting me not only copy and use your codes, but for explaining what to do for each part of this lab. \n",
    "\n",
    "Ziah:\n",
    "Thank you for helping organize my data, helping with my Data Preparation and Modeling while also checking my lab over and helping with the errors.\n",
    "\n",
    "Navya: \n",
    "Thank you for answering any of my questions and explaining the Abstract to me\n",
    "\n",
    "Mark: \n",
    "Thank you for teaching me how to open the csv file and looking over mine\n",
    "\n",
    "Rihan: \n",
    "Thank you for walking me through how to do the analysis part."
   ]
  }
 ],
 "metadata": {
  "kernelspec": {
   "display_name": "Python 3",
   "language": "python",
   "name": "python3"
  },
  "language_info": {
   "codemirror_mode": {
    "name": "ipython",
    "version": 3
   },
   "file_extension": ".py",
   "mimetype": "text/x-python",
   "name": "python",
   "nbconvert_exporter": "python",
   "pygments_lexer": "ipython3",
   "version": "3.7.3"
  }
 },
 "nbformat": 4,
 "nbformat_minor": 2
}
